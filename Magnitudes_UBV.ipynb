{
  "nbformat": 4,
  "nbformat_minor": 0,
  "metadata": {
    "colab": {
      "provenance": [],
      "authorship_tag": "ABX9TyP/tg8oc1DUFl+1Hi6AqxjB",
      "include_colab_link": true
    },
    "kernelspec": {
      "name": "python3",
      "display_name": "Python 3"
    },
    "language_info": {
      "name": "python"
    }
  },
  "cells": [
    {
      "cell_type": "markdown",
      "metadata": {
        "id": "view-in-github",
        "colab_type": "text"
      },
      "source": [
        "<a href=\"https://colab.research.google.com/github/dcepeda2/Cumulos-abiertos/blob/main/Magnitudes_UBV.ipynb\" target=\"_parent\"><img src=\"https://colab.research.google.com/assets/colab-badge.svg\" alt=\"Open In Colab\"/></a>"
      ]
    },
    {
      "cell_type": "code",
      "execution_count": null,
      "metadata": {
        "id": "ICKndtnhoSsl"
      },
      "outputs": [],
      "source": [
        "import math\n",
        "import random\n",
        "\n",
        "h = 6.626e-34  # Constante de Planck\n",
        "c = 3.0e8      # Velocidad de la luz en el vacío\n",
        "k_b = 1.38e-23 # Constante de Boltzmann\n",
        "pi = math.pi   # Valor de Pi\n",
        "\n",
        "# Frecuencias máximas y mínimas para los filtros UBV\n",
        "freq_U = (c / 0.4e-6, c / 0.3e-6)\n",
        "freq_B = (c / 0.55e-6, c / 0.35e-6)\n",
        "freq_V = (c / 0.7e-6, c / 0.45e-6)\n",
        "\n",
        "# Flujo y magnitud del Sol (datos teóricos)\n",
        "F_sol = 1361  # Flujo del Sol en W/m^2\n",
        "M_sol = 4.83   # Magnitud absoluta del Sol\n",
        "\n",
        "def calcular_flujo(temperatura, freq_range):\n",
        "    nu_min, nu_max = freq_range\n",
        "    integral = 0.0\n",
        "    delta_nu = 1e12  # Paso de integración\n",
        "\n",
        "    for nu_val in range(int(nu_min / delta_nu), int(nu_max / delta_nu)):\n",
        "        nu = nu_val * delta_nu\n",
        "        intensity = (2 * h / (c ** 2)) * ((nu ** 3) / (math.exp((h * nu) / (k_b * temperatura)) - 1))\n",
        "        integral += intensity * delta_nu\n",
        "\n",
        "    return integral * math.pi\n",
        "\n",
        "def calcular_magnitud_aparente(flux, distance):\n",
        "    return 5 * math.log10(distance) - 5 + (-2.5 * math.log10(flux / F_sol) + M_sol)\n",
        "\n",
        "# Temperatura para los cuerpos negros (puedes ajustar según necesites)\n",
        "temperatura = random.randint(3000, 50000)  # Se elige aleatoriamente\n",
        "\n",
        "# Distancia de la estrella (aleatoria y menor a 10 parsec)\n",
        "distancia = random.uniform(0, 10)\n",
        "\n",
        "# Calcular el flujo para cada filtro\n",
        "flux_U = calcular_flujo(temperatura, freq_U)\n",
        "flux_B = calcular_flujo(temperatura, freq_B)\n",
        "flux_V = calcular_flujo(temperatura, freq_V)\n",
        "\n",
        "# Calcular la magnitud aparente para cada filtro\n",
        "mag_aparente_U = calcular_magnitud_aparente(flux_U, distancia)\n",
        "mag_aparente_B = calcular_magnitud_aparente(flux_B, distancia)\n",
        "mag_aparente_V = calcular_magnitud_aparente(flux_V, distancia)\n",
        "\n",
        "# Mostrar resultados\n",
        "print(f\"Temperatura del cuerpo negro: {temperatura} K\")\n",
        "print(f\"Distancia de la estrella: {distancia} parsec\")\n",
        "print(f\"Magnitud aparente en filtro U: {mag_aparente_U:.2f}\")\n",
        "print(f\"Magnitud aparente en filtro B: {mag_aparente_B:.2f}\")\n",
        "print(f\"Magnitud aparente en filtro V: {mag_aparente_V:.2f}\")\n",
        "\n"
      ]
    }
  ]
}